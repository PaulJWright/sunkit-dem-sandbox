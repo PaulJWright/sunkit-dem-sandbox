{
 "cells": [
  {
   "cell_type": "code",
   "execution_count": null,
   "id": "630b6deb",
   "metadata": {},
   "outputs": [],
   "source": [
    "import os\n",
    "import json\n",
    "\n",
    "import numpy as np\n",
    "import astropy.units as u\n",
    "import matplotlib.pyplot as plt\n",
    "\n",
    "from scipy.interpolate import splev,splrep,interp1d\n",
    "\n",
    "from sunkit_dem import Model\n",
    "from sunkit_dem.models import single_gaussian\n",
    "\n",
    "from sunkit_dem.util import quantity_1d_to_sequence\n",
    "\n",
    "%matplotlib inline"
   ]
  },
  {
   "cell_type": "code",
   "execution_count": null,
   "id": "2757ac18",
   "metadata": {},
   "outputs": [],
   "source": [
    "import ndcube\n",
    "print(ndcube.__version__)"
   ]
  },
  {
   "cell_type": "code",
   "execution_count": null,
   "id": "7b8acf61",
   "metadata": {},
   "outputs": [],
   "source": [
    "temperature_bin_edges = 10.**np.arange(5.5,7.5,0.1) * u.K\n",
    "\n",
    "log_temperature_bin_centers = (np.log10(temperature_bin_edges.value)[1:] + np.log10(temperature_bin_edges.value)[:-1])/2\n",
    "\n",
    "temperature_bin_centers = (\n",
    "    10**log_temperature_bin_centers\n",
    "    * temperature_bin_edges.unit\n",
    ")"
   ]
  },
  {
   "cell_type": "code",
   "execution_count": null,
   "id": "9bb643c0",
   "metadata": {},
   "outputs": [],
   "source": [
    "EM0_1 = 5e22 / (u.cm**5 * u.K)\n",
    "logT0_1 = 6.6\n",
    "delta_logT_1 = 0.2"
   ]
  },
  {
   "cell_type": "code",
   "execution_count": null,
   "id": "a1e94acf",
   "metadata": {},
   "outputs": [],
   "source": [
    "from astropy.modeling.models import Gaussian1D\n",
    "\n",
    "g = Gaussian1D(amplitude=EM0_1, mean=logT0_1, stddev=delta_logT_1)\n",
    "\n",
    "dem_true = g(log_temperature_bin_centers)"
   ]
  },
  {
   "cell_type": "code",
   "execution_count": null,
   "id": "b9420d11",
   "metadata": {
    "scrolled": true
   },
   "outputs": [],
   "source": [
    "fig = plt.figure(); ax = fig.gca()\n",
    "ax.plot(temperature_bin_centers,dem_true, '--')\n",
    "ax.set_yscale('log')\n",
    "ax.set_xscale('log')\n",
    "ax.set_ylim(1e20,1e23)\n",
    "ax.set_xlim(10**(5.2),10**(7.5))\n",
    "ax.set_xlabel(r'$T$ [K]');\n",
    "ax.set_ylabel(r'$\\mathrm{DEM}$ [cm$^{-5}$ K$^{-1}$]');"
   ]
  },
  {
   "cell_type": "code",
   "execution_count": null,
   "id": "359c78e8",
   "metadata": {},
   "outputs": [],
   "source": [
    "channels = [94, 131,  171, 193, 211, 335]"
   ]
  },
  {
   "cell_type": "code",
   "execution_count": null,
   "id": "06df0584",
   "metadata": {},
   "outputs": [],
   "source": [
    "with open('/Users/pwright/Documents/personal/sunkit-dem/sdo_aia.json') as json_file:\n",
    "    response_data = json.load(json_file)\n",
    "    \n",
    "response = {}\n",
    "for c in channels:\n",
    "    nots = splrep(response_data[f'{c}']['temperature_response_x'],\n",
    "                  response_data[f'{c}']['temperature_response_y'])\n",
    "    response[c] = u.Quantity(splev(temperature_bin_centers.value, nots),\n",
    "                             response_data[f'{c}']['temperature_response_y_units'],)"
   ]
  },
  {
   "cell_type": "code",
   "execution_count": null,
   "id": "e3be519c",
   "metadata": {},
   "outputs": [],
   "source": [
    "intensity = u.Quantity([\n",
    "    (response[c] * dem_true  * np.diff(temperature_bin_edges)).sum()\n",
    "    for c in channels\n",
    "]).decompose()"
   ]
  },
  {
   "cell_type": "code",
   "execution_count": null,
   "id": "051f650a",
   "metadata": {},
   "outputs": [],
   "source": [
    "uncertainty = intensity * 0.2"
   ]
  },
  {
   "cell_type": "code",
   "execution_count": null,
   "id": "bc91ddac",
   "metadata": {},
   "outputs": [],
   "source": [
    "seq = quantity_1d_to_sequence(intensity,\n",
    "                              channels*u.angstrom,\n",
    "                              uncertainty=uncertainty)"
   ]
  },
  {
   "cell_type": "code",
   "execution_count": null,
   "id": "7a491e61",
   "metadata": {},
   "outputs": [],
   "source": [
    "# Fit model"
   ]
  },
  {
   "cell_type": "code",
   "execution_count": null,
   "id": "b7e10b8a",
   "metadata": {
    "scrolled": true
   },
   "outputs": [],
   "source": [
    "sg = Model(seq, response, temperature_bin_edges, model='single_gaussian')"
   ]
  },
  {
   "cell_type": "code",
   "execution_count": null,
   "id": "2d95af34",
   "metadata": {},
   "outputs": [],
   "source": [
    "dem = sg.fit()"
   ]
  },
  {
   "cell_type": "code",
   "execution_count": null,
   "id": "79b2e468",
   "metadata": {},
   "outputs": [],
   "source": [
    "fig = plt.figure(); ax = fig.gca()\n",
    "ax.plot(temperature_bin_centers,dem_true, '--', label='dem_original')\n",
    "ax.plot(temperature_bin_centers, dem['dem'].data, '.', color='red', label='fitted')\n",
    "ax.set_yscale('log')\n",
    "ax.set_xscale('log')\n",
    "ax.set_ylim(1e20,1e23)\n",
    "ax.set_xlim(10**(5.2),10**(7.5))\n",
    "ax.set_xlabel(r'$T$ [K]')\n",
    "ax.set_ylabel(r'$\\mathrm{DEM}$ [cm$^{-5}$ K$^{-1}$]')\n",
    "ax.legend()"
   ]
  }
 ],
 "metadata": {
  "kernelspec": {
   "display_name": "Python 3",
   "language": "python",
   "name": "python3"
  },
  "language_info": {
   "codemirror_mode": {
    "name": "ipython",
    "version": 3
   },
   "file_extension": ".py",
   "mimetype": "text/x-python",
   "name": "python",
   "nbconvert_exporter": "python",
   "pygments_lexer": "ipython3",
   "version": "3.8.8"
  }
 },
 "nbformat": 4,
 "nbformat_minor": 5
}
