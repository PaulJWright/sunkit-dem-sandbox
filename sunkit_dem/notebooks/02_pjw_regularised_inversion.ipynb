{
 "cells": [
  {
   "cell_type": "code",
   "execution_count": null,
   "id": "e5f4aea8",
   "metadata": {},
   "outputs": [],
   "source": [
    "import os\n",
    "import json\n",
    "\n",
    "import numpy as np\n",
    "import astropy.units as u\n",
    "import matplotlib.pyplot as plt\n",
    "\n",
    "from scipy.interpolate import splev,splrep,interp1d\n",
    "\n",
    "from sunkit_dem import Model\n",
    "from sunkit_dem.models import hk12\n",
    "\n",
    "from sunkit_dem.util import quantity_1d_to_sequence\n",
    "\n",
    "from astropy.coordinates import SkyCoord\n",
    "from astropy.wcs import WCS\n",
    "from astropy.visualization import ImageNormalize, LogStretch\n",
    "from sunpy.map import Map\n",
    "from sunpy.net import Fido,attrs\n",
    "\n",
    "import ndcube\n",
    "\n",
    "%matplotlib inline"
   ]
  },
  {
   "cell_type": "code",
   "execution_count": null,
   "id": "cb499a5b",
   "metadata": {},
   "outputs": [],
   "source": [
    "# let's just check ndcube is version 2.0.0\n",
    "ndcube.__version__"
   ]
  },
  {
   "cell_type": "markdown",
   "id": "b94d1053",
   "metadata": {},
   "source": [
    "## Get AIA Data\n",
    "We will get `[94, 131, 171, 193, 211, 304, 335]` and drop the `304` channel"
   ]
  },
  {
   "cell_type": "code",
   "execution_count": null,
   "id": "111b91aa",
   "metadata": {},
   "outputs": [],
   "source": [
    "## Get AI\n",
    "q = Fido.search(\n",
    "    attrs.Time('2012/02/11T15:00:00', end='2012/02/11T15:00:10'),\n",
    "    attrs.Instrument('AIA'),\n",
    "    attrs.Wavelength(94*u.angstrom, 335*u.angstrom),\n",
    ")"
   ]
  },
  {
   "cell_type": "code",
   "execution_count": null,
   "id": "641cf6e5",
   "metadata": {},
   "outputs": [],
   "source": [
    "files = Fido.fetch(q, overwrite=True)"
   ]
  },
  {
   "cell_type": "code",
   "execution_count": null,
   "id": "5746940e",
   "metadata": {},
   "outputs": [],
   "source": [
    "maps = [Map(f) for f in files]\n",
    "maps = sorted(maps, key=lambda x: x.wavelength)"
   ]
  },
  {
   "cell_type": "code",
   "execution_count": null,
   "id": "e0422e17",
   "metadata": {},
   "outputs": [],
   "source": [
    "maps.pop(-2)"
   ]
  },
  {
   "cell_type": "markdown",
   "id": "2ae386e3",
   "metadata": {},
   "source": [
    "## Need to do AIA prep using `aiapy`"
   ]
  },
  {
   "cell_type": "code",
   "execution_count": null,
   "id": "6303965e",
   "metadata": {},
   "outputs": [],
   "source": [
    "# For now, just divide by exposure time\n",
    "\n",
    "maps = [Map(m.data/m.exposure_time.value, m.meta) for m in maps]"
   ]
  },
  {
   "cell_type": "code",
   "execution_count": null,
   "id": "25437d27",
   "metadata": {},
   "outputs": [],
   "source": [
    "# currently resample the data which may be the result of not doing aia_prep?\n",
    "\n",
    "maps = [\n",
    "    m.submap(\n",
    "        bottom_left=SkyCoord(75 * u.arcsec, -75 * u.arcsec, frame=m.coordinate_frame),\n",
    "        top_right=SkyCoord(-175 * u.arcsec, -325 * u.arcsec, frame=m.coordinate_frame)\n",
    "    ).resample(\n",
    "        [50, 50] * u.pixel\n",
    "    )\n",
    "        for m in maps]"
   ]
  },
  {
   "cell_type": "code",
   "execution_count": null,
   "id": "35b1aebf",
   "metadata": {},
   "outputs": [],
   "source": [
    "[m.data.shape for m in maps]"
   ]
  },
  {
   "cell_type": "code",
   "execution_count": null,
   "id": "62bac088",
   "metadata": {},
   "outputs": [],
   "source": [
    "fig = plt.figure()\n",
    "ax = fig.gca(projection=maps[2])\n",
    "maps[2].plot(axes=ax)"
   ]
  },
  {
   "cell_type": "code",
   "execution_count": null,
   "id": "5c2433dc",
   "metadata": {},
   "outputs": [],
   "source": [
    "cubes = []\n",
    "for m in maps:\n",
    "    # Add wavelength to WCS\n",
    "    wcs = m.wcs.to_header()\n",
    "    wcs['CTYPE3'] = 'WAVE'\n",
    "    wcs['CUNIT3'] = u.angstrom.to_string()\n",
    "    wcs['CDELT3'] = 1\n",
    "    wcs['CRPIX3'] = 1\n",
    "    wcs['CRVAL3'] = m.wavelength.to(u.angstrom).value\n",
    "    wcs['NAXIS3'] = 1\n",
    "    # Update naxis args\n",
    "    wcs['NAXIS1'] = m.data.shape[1]\n",
    "    wcs['NAXIS2'] = m.data.shape[0]\n",
    "\n",
    "    # Add dimension to data\n",
    "    data = u.Quantity(m.data[np.newaxis,:,:], 'ct / pixel / s')\n",
    "    # Create cube\n",
    "    cb = ndcube.NDCube(\n",
    "            data, WCS(wcs), meta=m.meta, uncertainty=0.2*data.value\n",
    "    )    \n",
    "    cubes.append(cb)\n",
    "    \n",
    "\n",
    "seq = ndcube.NDCubeSequence(cubes, common_axis=0)"
   ]
  },
  {
   "cell_type": "markdown",
   "id": "dce1d159",
   "metadata": {},
   "source": [
    "## Generate the response functions\n",
    "There definitely needs to be a better Python way for this."
   ]
  },
  {
   "cell_type": "code",
   "execution_count": null,
   "id": "8d784d46",
   "metadata": {},
   "outputs": [],
   "source": [
    "# response functions\n",
    "\n",
    "temperature_bin_edges = 10**np.arange(5.5,7,0.1)*u.K\n",
    "temperature_bin_centers = 10**((np.log10(temperature_bin_edges.value)[1:] \n",
    "                                + np.log10(temperature_bin_edges.value)[:-1])/2) * u.K\n",
    "\n",
    "channels = [int(m.wavelength.to(u.angstrom).value) for m in maps]\n",
    "\n",
    "with open('/Users/pwright/Documents/personal/sunkit-dem/sdo_aia.json') as json_file:\n",
    "    response_data = json.load(json_file)\n",
    "    \n",
    "response = {}\n",
    "for c in channels:\n",
    "    nots = splrep(response_data[f'{c}']['temperature_response_x'],\n",
    "                  response_data[f'{c}']['temperature_response_y'])\n",
    "    response[c] = u.Quantity(splev(temperature_bin_centers.value, nots),\n",
    "                             response_data[f'{c}']['temperature_response_y_units'],)"
   ]
  },
  {
   "cell_type": "code",
   "execution_count": null,
   "id": "d6e77aa1",
   "metadata": {},
   "outputs": [],
   "source": [
    "temperature_bin_edges"
   ]
  },
  {
   "cell_type": "raw",
   "id": "843fec4b",
   "metadata": {},
   "source": [
    "# We could broadcast this into the shape of our data if we want\n",
    "# \n",
    "b = np.empty((15, 50, 50))\n",
    "broad_a = np.broadcast_to(temperature_bin_edges, b.T.shape).T * u.K"
   ]
  },
  {
   "cell_type": "markdown",
   "id": "18d9ec86",
   "metadata": {},
   "source": [
    "## Looking at an NDCube"
   ]
  },
  {
   "cell_type": "code",
   "execution_count": null,
   "id": "68a1db4b",
   "metadata": {},
   "outputs": [],
   "source": [
    "seq[0].data.shape"
   ]
  },
  {
   "cell_type": "code",
   "execution_count": null,
   "id": "e1e2d5ec",
   "metadata": {},
   "outputs": [],
   "source": [
    "seq[0].uncertainty"
   ]
  },
  {
   "cell_type": "code",
   "execution_count": null,
   "id": "eff06e33",
   "metadata": {},
   "outputs": [],
   "source": [
    "seq[0].wcs, seq[0].extra_coords, seq[0].unit"
   ]
  },
  {
   "cell_type": "markdown",
   "id": "440a26db",
   "metadata": {},
   "source": [
    "## NDSequence"
   ]
  },
  {
   "cell_type": "code",
   "execution_count": null,
   "id": "560abe96",
   "metadata": {},
   "outputs": [],
   "source": [
    "seq.dimensions"
   ]
  },
  {
   "cell_type": "code",
   "execution_count": null,
   "id": "ba1e553c",
   "metadata": {},
   "outputs": [],
   "source": [
    "seq.array_axis_physical_types"
   ]
  },
  {
   "cell_type": "code",
   "execution_count": null,
   "id": "bb72f8cb",
   "metadata": {},
   "outputs": [],
   "source": [
    "seq.cube_like_dimensions"
   ]
  },
  {
   "cell_type": "markdown",
   "id": "f6ec7655",
   "metadata": {},
   "source": [
    "## Define and fit the model"
   ]
  },
  {
   "cell_type": "code",
   "execution_count": null,
   "id": "64975fac",
   "metadata": {},
   "outputs": [],
   "source": [
    "hk12 = Model(seq, response, temperature_bin_edges, model='hk12')"
   ]
  },
  {
   "cell_type": "code",
   "execution_count": null,
   "id": "eb8873b6",
   "metadata": {
    "scrolled": true
   },
   "outputs": [],
   "source": [
    "dem_2d = hk12.fit()"
   ]
  },
  {
   "cell_type": "markdown",
   "id": "d70b0d17",
   "metadata": {},
   "source": [
    "## NDCollection"
   ]
  },
  {
   "cell_type": "code",
   "execution_count": null,
   "id": "3e25a3b1",
   "metadata": {},
   "outputs": [],
   "source": [
    "dem_2d.keys()"
   ]
  },
  {
   "cell_type": "code",
   "execution_count": null,
   "id": "b0947340",
   "metadata": {},
   "outputs": [],
   "source": [
    "import sunpy"
   ]
  },
  {
   "cell_type": "code",
   "execution_count": null,
   "id": "077a77eb",
   "metadata": {},
   "outputs": [],
   "source": [
    "my_map = sunpy.map.Map(dem_2d['dem'].data[:,:,0], maps[2].meta)"
   ]
  },
  {
   "cell_type": "code",
   "execution_count": null,
   "id": "8c9bddcd",
   "metadata": {},
   "outputs": [],
   "source": [
    "fig = plt.figure(figsize=(20,20))\n",
    "for i,c in enumerate(dem_2d['dem']):\n",
    "    \n",
    "    mp = sunpy.map.Map(dem_2d['dem'].data[i,:,:], maps[2].meta)\n",
    "\n",
    "    ax = fig.add_subplot(4,4,i+1, projection=mp)\n",
    "        \n",
    "    mp.plot(\n",
    "        norm=ImageNormalize(vmin=1e20,vmax=1e22,stretch=LogStretch()),\n",
    "        cmap='inferno',\n",
    "    )\n",
    "\n",
    "    ax.set_title(f\"$\\log{{T}} = {dem_2d['dem'].axis_world_coords(0)[0][i]:.2f}$\")\n"
   ]
  },
  {
   "cell_type": "code",
   "execution_count": null,
   "id": "2ba7934f",
   "metadata": {},
   "outputs": [],
   "source": [
    "pix_lat,pix_lon = maps[2].world_to_pixel(\n",
    "    SkyCoord(Tx=40*u.arcsec,\n",
    "             Ty=-180*u.arcsec,\n",
    "             frame=maps[2].coordinate_frame))\n",
    "pix_lat = int(np.ceil(pix_lat.value))\n",
    "pix_lon = int(np.ceil(pix_lon.value))"
   ]
  },
  {
   "cell_type": "code",
   "execution_count": null,
   "id": "a07daa65",
   "metadata": {
    "scrolled": true
   },
   "outputs": [],
   "source": [
    "plt.plot(dem_2d['dem'].data[:,pix_lat,pix_lon])\n",
    "\n",
    "plt.yscale('log')\n",
    "plt.ylim(1e19,1e21)"
   ]
  },
  {
   "cell_type": "code",
   "execution_count": null,
   "id": "4aee1dac",
   "metadata": {},
   "outputs": [],
   "source": [
    "dem_2d.keys()"
   ]
  },
  {
   "cell_type": "code",
   "execution_count": null,
   "id": "cb7a583f",
   "metadata": {},
   "outputs": [],
   "source": [
    "dem_2d['dem'][:,pix_lat,pix_lon].plot()\n",
    "plt.yscale('log')\n",
    "plt.ylim(1e19,1e21)"
   ]
  },
  {
   "cell_type": "code",
   "execution_count": null,
   "id": "dcf910d7",
   "metadata": {},
   "outputs": [],
   "source": [
    "dem_2d['dem'][:,pix_lat,pix_lon].uncertainty"
   ]
  },
  {
   "cell_type": "raw",
   "id": "4bf38e68",
   "metadata": {},
   "source": [
    "## 0D"
   ]
  },
  {
   "cell_type": "raw",
   "id": "0466a921",
   "metadata": {},
   "source": [
    "seq"
   ]
  },
  {
   "cell_type": "raw",
   "id": "9928b439",
   "metadata": {},
   "source": [
    "slice_0d = seq.index_as_cube[0:6,pix_lat-1:pix_lat+1,pix_lon-1:pix_lon+1]"
   ]
  },
  {
   "cell_type": "raw",
   "id": "170ef0d9",
   "metadata": {},
   "source": [
    "hk12 = Model(slice_0d, response, temperature_bin_edges, model='hk12')"
   ]
  },
  {
   "cell_type": "raw",
   "id": "dc875d2c",
   "metadata": {},
   "source": [
    "hk12.fit()"
   ]
  },
  {
   "cell_type": "raw",
   "id": "4eafdf70",
   "metadata": {},
   "source": [
    "dem_0d.plot()\n",
    "plt.yscale('log')\n",
    "plt.ylim(1e19,1e21)"
   ]
  }
 ],
 "metadata": {
  "kernelspec": {
   "display_name": "Python 3",
   "language": "python",
   "name": "python3"
  },
  "language_info": {
   "codemirror_mode": {
    "name": "ipython",
    "version": 3
   },
   "file_extension": ".py",
   "mimetype": "text/x-python",
   "name": "python",
   "nbconvert_exporter": "python",
   "pygments_lexer": "ipython3",
   "version": "3.8.8"
  }
 },
 "nbformat": 4,
 "nbformat_minor": 5
}
