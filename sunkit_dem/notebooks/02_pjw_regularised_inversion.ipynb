{
 "cells": [
  {
   "cell_type": "code",
   "execution_count": null,
   "id": "e5f4aea8",
   "metadata": {},
   "outputs": [],
   "source": [
    "import os\n",
    "import json\n",
    "\n",
    "import numpy as np\n",
    "import astropy.units as u\n",
    "import matplotlib.pyplot as plt\n",
    "\n",
    "from scipy.interpolate import splev,splrep,interp1d\n",
    "\n",
    "from sunkit_dem import Model\n",
    "from sunkit_dem.models import hk12\n",
    "\n",
    "from sunkit_dem.util import quantity_1d_to_sequence\n",
    "\n",
    "from astropy.coordinates import SkyCoord\n",
    "from astropy.wcs import WCS\n",
    "from astropy.visualization import ImageNormalize, LogStretch\n",
    "from sunpy.map import Map\n",
    "from sunpy.net import Fido,attrs\n",
    "\n",
    "import ndcube\n",
    "\n",
    "%matplotlib inline"
   ]
  },
  {
   "cell_type": "code",
   "execution_count": null,
   "id": "867ae626",
   "metadata": {},
   "outputs": [],
   "source": [
    "ndcube.__version__"
   ]
  },
  {
   "cell_type": "code",
   "execution_count": null,
   "id": "111b91aa",
   "metadata": {},
   "outputs": [],
   "source": [
    "## Get AIA Data\n",
    "q = Fido.search(\n",
    "    attrs.Time('2012/02/11T15:00:00', end='2012/02/11T15:00:10'),\n",
    "    attrs.Instrument('AIA'),\n",
    "    attrs.Wavelength(94*u.angstrom, 335*u.angstrom),\n",
    ")"
   ]
  },
  {
   "cell_type": "code",
   "execution_count": null,
   "id": "641cf6e5",
   "metadata": {},
   "outputs": [],
   "source": [
    "files = Fido.fetch(q, overwrite=True)"
   ]
  },
  {
   "cell_type": "code",
   "execution_count": null,
   "id": "5746940e",
   "metadata": {},
   "outputs": [],
   "source": [
    "maps = [Map(f) for f in files]\n",
    "maps = sorted(maps, key=lambda x: x.wavelength)"
   ]
  },
  {
   "cell_type": "code",
   "execution_count": null,
   "id": "17e93054",
   "metadata": {},
   "outputs": [],
   "source": [
    "maps.pop(-2)"
   ]
  },
  {
   "cell_type": "code",
   "execution_count": null,
   "id": "0a702e0c",
   "metadata": {},
   "outputs": [],
   "source": [
    "# Need to use aiaprep\n",
    "\n",
    "# maps = [aiaprep(m) for m in maps]\n",
    "# maps = [Map(m.data/m.exposure_time.value, m.meta) for m in maps]"
   ]
  },
  {
   "cell_type": "code",
   "execution_count": null,
   "id": "25437d27",
   "metadata": {},
   "outputs": [],
   "source": [
    "# currently resample the data which may be the result of not doing aia_prep.\n",
    "\n",
    "maps = [\n",
    "    m.submap(\n",
    "        bottom_left=SkyCoord(75 * u.arcsec, -75 * u.arcsec, frame=m.coordinate_frame),\n",
    "        top_right=SkyCoord(-175 * u.arcsec, -325 * u.arcsec, frame=m.coordinate_frame)\n",
    "    ).resample(\n",
    "        [50, 50] * u.pixel\n",
    "    )\n",
    "        for m in maps]"
   ]
  },
  {
   "cell_type": "code",
   "execution_count": null,
   "id": "ce33207a",
   "metadata": {},
   "outputs": [],
   "source": [
    "[m.data.shape for m in maps]"
   ]
  },
  {
   "cell_type": "code",
   "execution_count": null,
   "id": "62bac088",
   "metadata": {},
   "outputs": [],
   "source": [
    "fig = plt.figure()\n",
    "ax = fig.gca(projection=maps[2])\n",
    "maps[2].plot(axes=ax)"
   ]
  },
  {
   "cell_type": "code",
   "execution_count": null,
   "id": "5c2433dc",
   "metadata": {},
   "outputs": [],
   "source": [
    "cubes = []\n",
    "for m in maps:\n",
    "    # Add wavelength to WCS\n",
    "    wcs = m.wcs.to_header()\n",
    "    wcs['CTYPE3'] = 'WAVE'\n",
    "    wcs['CUNIT3'] = u.angstrom.to_string()\n",
    "    wcs['CDELT3'] = 1\n",
    "    wcs['CRPIX3'] = 1\n",
    "    wcs['CRVAL3'] = m.wavelength.to(u.angstrom).value\n",
    "    wcs['NAXIS3'] = 1\n",
    "    # Update naxis args\n",
    "    wcs['NAXIS1'] = m.data.shape[1]\n",
    "    wcs['NAXIS2'] = m.data.shape[0]\n",
    "\n",
    "    # Add dimension to data\n",
    "    data = u.Quantity(m.data[np.newaxis,:,:], 'ct / pixel / s')\n",
    "    # Create cube\n",
    "    cb = ndcube.NDCube(\n",
    "            data, WCS(wcs), meta=m.meta, uncertainty=0.2*data.value\n",
    "    )    \n",
    "    cubes.append(cb)\n",
    "    \n",
    "\n",
    "seq = ndcube.NDCubeSequence(cubes, common_axis=0)"
   ]
  },
  {
   "cell_type": "code",
   "execution_count": null,
   "id": "dbfc39be",
   "metadata": {},
   "outputs": [],
   "source": [
    "cb"
   ]
  },
  {
   "cell_type": "code",
   "execution_count": null,
   "id": "5061ba51",
   "metadata": {
    "scrolled": true
   },
   "outputs": [],
   "source": [
    "seq"
   ]
  },
  {
   "cell_type": "markdown",
   "id": "0a87139b",
   "metadata": {},
   "source": [
    "## Generate the response functions\n",
    "There definitely needs to be a better Python way for this."
   ]
  },
  {
   "cell_type": "code",
   "execution_count": null,
   "id": "8d784d46",
   "metadata": {},
   "outputs": [],
   "source": [
    "# response functions\n",
    "\n",
    "temperature_bin_edges = 10**np.arange(5.5,7,0.1)*u.K\n",
    "temperature_bin_centers = 10**((np.log10(temperature_bin_edges.value)[1:] \n",
    "                                + np.log10(temperature_bin_edges.value)[:-1])/2) * u.K\n",
    "\n",
    "channels = [int(m.wavelength.to(u.angstrom).value) for m in maps]\n",
    "\n",
    "with open('/Users/pwright/Documents/personal/sunkit-dem/sdo_aia.json') as json_file:\n",
    "    response_data = json.load(json_file)\n",
    "    \n",
    "response = {}\n",
    "for c in channels:\n",
    "    nots = splrep(response_data[f'{c}']['temperature_response_x'],\n",
    "                  response_data[f'{c}']['temperature_response_y'])\n",
    "    response[c] = u.Quantity(splev(temperature_bin_centers.value, nots),\n",
    "                             response_data[f'{c}']['temperature_response_y_units'],)"
   ]
  },
  {
   "cell_type": "markdown",
   "id": "64092d62",
   "metadata": {},
   "source": [
    "## Define and fit the model"
   ]
  },
  {
   "cell_type": "code",
   "execution_count": null,
   "id": "64975fac",
   "metadata": {},
   "outputs": [],
   "source": [
    "hk12 = Model(seq, response, temperature_bin_edges, model='hk12')"
   ]
  },
  {
   "cell_type": "code",
   "execution_count": null,
   "id": "eb8873b6",
   "metadata": {
    "scrolled": true
   },
   "outputs": [],
   "source": [
    "dem_2d = hk12.fit()"
   ]
  },
  {
   "cell_type": "raw",
   "id": "fc1eb809",
   "metadata": {},
   "source": [
    "/opt/anaconda3/envs/sunkit-dem-sandbox/lib/python3.7/site-packages/astropy/units/quantity.py in __array_ufunc__(self, function, method, *inputs, **kwargs)\n",
    "    484 \n",
    "    485         # Call our superclass's __array_ufunc__\n",
    "--> 486         result = super().__array_ufunc__(function, method, *arrays, **kwargs)\n",
    "    487         # If unit is None, a plain array is expected (e.g., comparisons), which\n",
    "    488         # means we're done.\n",
    "\n",
    "ValueError: operands could not be broadcast together with shapes (14,50,50) (14,) "
   ]
  },
  {
   "cell_type": "raw",
   "id": "44a51a9c",
   "metadata": {},
   "source": [
    "#can fix by broadcasting\n",
    "\n",
    "a = np.ones(14)\n",
    "b = np.empty((14, 50, 50))\n",
    "\n",
    "broad_a = np.broadcast_to(a, b.T.shape).T"
   ]
  },
  {
   "cell_type": "code",
   "execution_count": null,
   "id": "8c9bddcd",
   "metadata": {},
   "outputs": [],
   "source": [
    "fig = plt.figure(figsize=(20,20))\n",
    "for i,c in enumerate(dem_2d):\n",
    "    ax = fig.add_subplot(4,4,i+1)\n",
    "    dem_2d[i,:,:].plot(\n",
    "        norm=ImageNormalize(vmin=1e20,vmax=1e22, stretch=LogStretch()),\n",
    "        cmap='inferno',\n",
    "    )\n",
    "    ax.set_title(f\"$\\log{{T}} = {dem_2d.axis_world_coords('LOG_TEMPERATURE').value[i]:.2f}$\")\n",
    "plt.tight_layout()"
   ]
  }
 ],
 "metadata": {
  "kernelspec": {
   "display_name": "Python 3 (ipykernel)",
   "language": "python",
   "name": "python3"
  },
  "language_info": {
   "codemirror_mode": {
    "name": "ipython",
    "version": 3
   },
   "file_extension": ".py",
   "mimetype": "text/x-python",
   "name": "python",
   "nbconvert_exporter": "python",
   "pygments_lexer": "ipython3",
   "version": "3.7.0"
  }
 },
 "nbformat": 4,
 "nbformat_minor": 5
}
